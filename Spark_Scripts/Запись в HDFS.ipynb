{
 "cells": [
  {
   "cell_type": "code",
   "execution_count": null,
   "id": "dec5aef1",
   "metadata": {},
   "outputs": [],
   "source": [
    "hdfs_ip = ''\n",
    "port = ''\n",
    "\n",
    "username = ''\n",
    "\n",
    "path = 'file:///path/to/file/'\n",
    "data = ''\n",
    "db_user = 'wave11_user_b...'"
   ]
  },
  {
   "cell_type": "code",
   "execution_count": null,
   "id": "f6f241cb",
   "metadata": {},
   "outputs": [],
   "source": [
    "from pyspark.sql import SparkSession\n",
    "import os\n",
    "\n",
    "os.environ['HADOOP_USER_NAME'] = f'{username}'\n",
    "\n",
    "spark = SparkSession.builder \\\n",
    "    .appName('HDFS to Greenplum') \\\n",
    "    .master('local[1]') \\\n",
    "    .config('spark.hadoop.fs.defaultFS', f'hdfs://{hdfs_ip}/user/{username}')\\\n",
    "    .getOrCreate()\n",
    "\n",
    "print(spark)"
   ]
  },
  {
   "cell_type": "code",
   "execution_count": null,
   "id": "bb61ed6a",
   "metadata": {},
   "outputs": [],
   "source": [
    "df = spark.read.format('utf-8').csv(path=f\"{path}{data}.csv\", multiLine=True)"
   ]
  },
  {
   "cell_type": "code",
   "execution_count": null,
   "id": "d891fcb9",
   "metadata": {},
   "outputs": [],
   "source": [
    "df.write.format('csv').save('test.csv')"
   ]
  },
  {
   "cell_type": "code",
   "execution_count": null,
   "id": "ae8d137b",
   "metadata": {},
   "outputs": [],
   "source": [
    "spark.stop()"
   ]
  }
 ],
 "metadata": {
  "kernelspec": {
   "display_name": "Python 3 (ipykernel)",
   "language": "python",
   "name": "python3"
  },
  "language_info": {
   "codemirror_mode": {
    "name": "ipython",
    "version": 3
   },
   "file_extension": ".py",
   "mimetype": "text/x-python",
   "name": "python",
   "nbconvert_exporter": "python",
   "pygments_lexer": "ipython3",
   "version": "3.10.9"
  }
 },
 "nbformat": 4,
 "nbformat_minor": 5
}
