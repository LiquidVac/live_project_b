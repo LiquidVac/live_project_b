{
 "cells": [
  {
   "cell_type": "code",
   "execution_count": 9,
   "metadata": {},
   "outputs": [],
   "source": [
    "from pyspark.sql import SparkSession\n",
    "import os\n",
    "\n",
    "os.environ['HADOOP_USER_NAME'] = 'n.almazova'\n",
    "# os.environ['JAVA_HOME'] = 'C:\\\\Program Files\\\\Java\\\\bin' \n",
    "\n",
    "\n",
    "# Создаем Spark сессию\n",
    "spark = SparkSession.builder \\\n",
    "    .appName(\"MyApp\") \\\n",
    "    .master(\"local[1]\") \\\n",
    "    .config('spark.hadoop.fs.defaultFS', f'hdfs://172.17.0.23/user/n.almazova')\\\n",
    "    .getOrCreate()\n",
    "    "
   ]
  },
  {
   "cell_type": "code",
   "execution_count": 21,
   "metadata": {},
   "outputs": [],
   "source": [
    "df = spark.read.option('header', 'true').format('utf-8').csv(path='file:///D:/стажировка Астон/Project B/Project-B/data/clients.csv', multiLine=True)\n",
    "df.write.format('csv').save('clients') \n"
   ]
  },
  {
   "cell_type": "code",
   "execution_count": 13,
   "metadata": {},
   "outputs": [
    {
     "name": "stdout",
     "output_type": "stream",
     "text": [
      "+---------+--------------------+--------------+--------------------+--------------+--------------------+\n",
      "|client_id|       activity_date| activity_type|   activity_location|    ip_address|              device|\n",
      "+---------+--------------------+--------------+--------------------+--------------+--------------------+\n",
      "|        1|2024-10-22 05:55:...|      pay_bill|                list|19.127.116.230|Mozilla/5.0 (Maci...|\n",
      "|        1|2024-10-20 22:30:...|  view_account|main/wp-content/s...|19.127.116.230|Mozilla/5.0 (Maci...|\n",
      "|        1|2024-10-03 22:12:...|  view_account|            app/main|19.127.116.230|Mozilla/5.0 (Maci...|\n",
      "|        1|2024-10-15 14:53:...|  view_account|       app/tags/main|19.127.116.230|Mozilla/5.0 (Maci...|\n",
      "|        1|2024-10-13 05:17:...|  view_account|                blog|19.127.116.230|Mozilla/5.0 (Maci...|\n",
      "|        1|2024-10-15 11:02:...|      pay_bill|           tag/posts|19.127.116.230|Mozilla/5.0 (Maci...|\n",
      "|        1|2024-10-18 17:59:...|  view_account|       category/blog|19.127.116.230|Mozilla/5.0 (Maci...|\n",
      "|        1|2024-10-13 15:18:...|  chat_support|        list/explore|19.127.116.230|Mozilla/5.0 (Maci...|\n",
      "|        1|2024-10-06 17:27:...|  view_account|        tag/category|19.127.116.230|Mozilla/5.0 (Maci...|\n",
      "|        1|2024-10-23 18:17:...|transfer_funds| app/blog/wp-content|19.127.116.230|Mozilla/5.0 (Maci...|\n",
      "|        1|2024-02-28 01:35:...|  view_account|              search|185.129.18.232|Mozilla/5.0 (Wind...|\n",
      "|        1|2024-10-26 11:28:...|  chat_support|             explore|185.129.18.232|Mozilla/5.0 (Wind...|\n",
      "|        1|2024-09-14 23:02:...|  chat_support|         tags/search|185.129.18.232|Mozilla/5.0 (Wind...|\n",
      "|        1|2024-09-04 09:42:...|transfer_funds| tag/categories/blog|185.129.18.232|Mozilla/5.0 (Wind...|\n",
      "|        1|2024-07-06 19:02:...|  view_account|          app/search|185.129.18.232|Mozilla/5.0 (Wind...|\n",
      "|        1|2024-03-08 10:59:...|  chat_support|          categories|185.129.18.232|Mozilla/5.0 (Wind...|\n",
      "|        1|2024-07-11 08:46:...|  view_account|            category|185.129.18.232|Mozilla/5.0 (Wind...|\n",
      "|        1|2024-05-14 17:22:...|  view_account| search/explore/blog|185.129.18.232|Mozilla/5.0 (Wind...|\n",
      "|        1|2024-06-06 05:03:...|  call_support|         posts/posts|185.129.18.232|Mozilla/5.0 (Wind...|\n",
      "|        1|2024-03-23 08:08:...|  chat_support|        explore/blog|185.129.18.232|Mozilla/5.0 (Wind...|\n",
      "+---------+--------------------+--------------+--------------------+--------------+--------------------+\n",
      "only showing top 20 rows\n",
      "\n"
     ]
    }
   ],
   "source": [
    "df.show()"
   ]
  },
  {
   "cell_type": "code",
   "execution_count": 5,
   "metadata": {},
   "outputs": [
    {
     "data": {
      "text/plain": [
       "9874054"
      ]
     },
     "execution_count": 5,
     "metadata": {},
     "output_type": "execute_result"
    }
   ],
   "source": [
    "df.count()"
   ]
  },
  {
   "cell_type": "code",
   "execution_count": 18,
   "metadata": {},
   "outputs": [],
   "source": [
    "df.write.format('csv').save('clients_logins') \n"
   ]
  },
  {
   "cell_type": "code",
   "execution_count": 8,
   "metadata": {},
   "outputs": [],
   "source": [
    "spark.stop()"
   ]
  }
 ],
 "metadata": {
  "kernelspec": {
   "display_name": "pyspark_env",
   "language": "python",
   "name": "python3"
  },
  "language_info": {
   "codemirror_mode": {
    "name": "ipython",
    "version": 3
   },
   "file_extension": ".py",
   "mimetype": "text/x-python",
   "name": "python",
   "nbconvert_exporter": "python",
   "pygments_lexer": "ipython3",
   "version": "3.9.2"
  }
 },
 "nbformat": 4,
 "nbformat_minor": 2
}
