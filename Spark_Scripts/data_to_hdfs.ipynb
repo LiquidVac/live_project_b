{
 "cells": [
  {
   "cell_type": "code",
   "execution_count": 55,
   "metadata": {},
   "outputs": [],
   "source": [
    "from pyspark.sql import SparkSession\n",
    "import os\n",
    "\n",
    "os.environ['HADOOP_USER_NAME'] = 'n.almazova'\n",
    "# os.environ['JAVA_HOME'] = 'C:\\\\Program Files\\\\Java\\\\bin' \n",
    "\n",
    "\n",
    "# Создаем Spark сессию\n",
    "spark = SparkSession.builder \\\n",
    "    .appName(\"MyApp\") \\\n",
    "    .master(\"local[1]\") \\\n",
    "    .config('spark.hadoop.fs.defaultFS', f'hdfs://172.17.0.23/user/n.almazova')\\\n",
    "    .getOrCreate()\n",
    "    "
   ]
  },
  {
   "cell_type": "code",
   "execution_count": 62,
   "metadata": {},
   "outputs": [],
   "source": [
    "# df = spark.read.option('header', 'true').format('utf-8').csv(path='file:///C:/Users/NITRO 5/test1/clients.csv', multiLine=True)\n",
    "df = spark.read.option('header', 'true').format('utf-8').csv(path='file:///D:/стажировка Астон/Project B/Project-B/data/clients.csv', multiLine=True)\n",
    "\n"
   ]
  },
  {
   "cell_type": "code",
   "execution_count": 63,
   "metadata": {},
   "outputs": [
    {
     "name": "stdout",
     "output_type": "stream",
     "text": [
      "+---------+------------------+--------------------+--------------------+--------------------+\n",
      "|client_id|       client_name|        client_email|        client_phone|      client_address|\n",
      "+---------+------------------+--------------------+--------------------+--------------------+\n",
      "|        1|    Mercedes Ramos|jordan31@example.com|001-513-577-3838x...|950 Cantu Estate ...|\n",
      "|        2|     Sandra Parker|johnsongabriela@e...|001-871-446-6466x...|910 Suarez Mounta...|\n",
      "|        3|     Timothy Smith|kylethompson@exam...|  814-849-0337x93734|68904 Johnson Str...|\n",
      "|        4|       April Huber|maryhoward@exampl...|        830-308-9198|44031 Morris Burg...|\n",
      "|        5|       Becky Young|cooklisa@example.net|       (544)763-5946|9193 Miller Fork\n",
      "...|\n",
      "|        6|     Daniel Gibson|melissajames@exam...|   (708)904-4504x599|5370 Darryl Meado...|\n",
      "|        7|Christina Williams|  nyoung@example.com|        840-886-1369|2309 Salazar Traf...|\n",
      "|        8|       Chad Mccall|   mwood@example.net|  886.966.9325x35284|0477 Freeman Stra...|\n",
      "|        9|        Sean Mason|jennifertaylor@ex...|        687.388.1151|10726 Guy Valleys...|\n",
      "|       10|    Shannon Clarke|ddominguez@exampl...|        379-212-9730|2197 Rodriguez Or...|\n",
      "|       11|      Andrea Moore| obishop@example.com|  603.535.3550x90604|79864 Michelle Tr...|\n",
      "|       12|     Rickey Lowery|william38@example...|  645-374-5983x89023|331 Bradford Esta...|\n",
      "|       13|      Tyler Jordan|garciajulian@exam...|          5995442952|491 Reyes Inlet A...|\n",
      "|       14|       Linda Quinn|thomas10@example.net|        940.930.4120|16197 Rachel Poin...|\n",
      "|       15|         Paul Long|jennifercollins@e...|   715.857.7185x3897|612 West Walks\n",
      "No...|\n",
      "|       16|       Marco Evans|ashley06@example.org|    284.915.0032x935|671 Briana Street...|\n",
      "|       17|     Whitney Perez|joyevans@example.net|        259-378-9651|393 Simpson Union...|\n",
      "|       18|      Samuel Small|stephen19@example...|+1-996-994-3043x0...|4095 Christopher ...|\n",
      "|       19|   Robert Martinez|lindawilliams@exa...|001-614-409-1583x...|491 Timothy Lock ...|\n",
      "|       20|    Candice Stuart|brendapope@exampl...|          2182590009|5536 Thomas Mills...|\n",
      "+---------+------------------+--------------------+--------------------+--------------------+\n",
      "only showing top 20 rows\n",
      "\n"
     ]
    }
   ],
   "source": [
    "df.show()"
   ]
  },
  {
   "cell_type": "code",
   "execution_count": 64,
   "metadata": {},
   "outputs": [
    {
     "data": {
      "text/plain": [
       "10000"
      ]
     },
     "execution_count": 64,
     "metadata": {},
     "output_type": "execute_result"
    }
   ],
   "source": [
    "df.count()"
   ]
  },
  {
   "cell_type": "code",
   "execution_count": 72,
   "metadata": {},
   "outputs": [],
   "source": [
    "df.write.format('csv').save('clients1') "
   ]
  },
  {
   "cell_type": "code",
   "execution_count": 33,
   "metadata": {},
   "outputs": [],
   "source": [
    "spark.stop()"
   ]
  }
 ],
 "metadata": {
  "kernelspec": {
   "display_name": "pyspark_env",
   "language": "python",
   "name": "python3"
  },
  "language_info": {
   "codemirror_mode": {
    "name": "ipython",
    "version": 3
   },
   "file_extension": ".py",
   "mimetype": "text/x-python",
   "name": "python",
   "nbconvert_exporter": "python",
   "pygments_lexer": "ipython3",
   "version": "3.9.2"
  }
 },
 "nbformat": 4,
 "nbformat_minor": 2
}
