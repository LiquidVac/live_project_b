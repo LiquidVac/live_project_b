{
 "cells": [
  {
   "cell_type": "code",
   "execution_count": 11,
   "metadata": {},
   "outputs": [],
   "source": [
    "from pyspark.sql import SparkSession\n",
    "import os\n",
    "\n",
    "os.environ['HADOOP_USER_NAME'] = 'n.almazova'\n",
    "# os.environ['JAVA_HOME'] = 'C:\\\\Program Files\\\\Java\\\\bin' \n",
    "\n",
    "\n",
    "# Создаем Spark сессию\n",
    "spark = SparkSession.builder \\\n",
    "    .appName(\"MyApp\") \\\n",
    "    .master(\"local[1]\") \\\n",
    "    .config('spark.hadoop.fs.defaultFS', f'hdfs://172.17.0.23/user/n.almazova')\\\n",
    "    .getOrCreate()\n",
    "    "
   ]
  },
  {
   "cell_type": "code",
   "execution_count": 12,
   "metadata": {},
   "outputs": [],
   "source": [
    "df = spark.read.option('header', 'true').format('utf-8').csv(path='file:///D:/стажировка Астон/Project B/Project-B/data/clients.csv', multiLine=True)\n",
    "df.write.format('csv').option('header', 'true').save('clients') \n"
   ]
  },
  {
   "cell_type": "code",
   "execution_count": 3,
   "metadata": {},
   "outputs": [
    {
     "name": "stdout",
     "output_type": "stream",
     "text": [
      "+---------+----------------+--------------------+--------------------+--------------------+\n",
      "|client_id|     client_name|        client_email|        client_phone|      client_address|\n",
      "+---------+----------------+--------------------+--------------------+--------------------+\n",
      "|        1|     Collin Wise|melissa65@example...| +1-776-515-1789x521|713 Bethany Ridge...|\n",
      "|        2|    Nicole Perry|blakebaker@exampl...|       (582)838-7980|6972 Wright Cours...|\n",
      "|        3|      Paul Moore| blake60@example.net|    299-671-7332x774|10784 Cindy Plain...|\n",
      "|        4|   Rebecca Giles|deborahanderson@e...|  490.470.0682x97497|307 Welch Road Su...|\n",
      "|        5| Alexandra Perez|rodney32@example.net|        931.678.2769|38544 Tabitha Cen...|\n",
      "|        6|    Kayla Turner|stacysingh@exampl...|+1-824-876-2813x1466|242 Philip Inlet\n",
      "...|\n",
      "|        7|    Carlos Stark|hannahrobinson@ex...|       (222)816-7142|91687 Orozco Pass...|\n",
      "|        8|      Alvin Ward|daniel58@example.net|    001-217-771-9231|PSC 1447, Box 714...|\n",
      "|        9|   Travis Thomas|alisonvincent@exa...| +1-245-438-0794x854|209 Michael Missi...|\n",
      "|       10|   Roger Elliott|owensalexander@ex...|       (664)842-4964|623 Holt Orchard\n",
      "...|\n",
      "|       11|   Taylor Valdez|mballard@example.com| (734)657-5759x60560|90422 Beasley Cro...|\n",
      "|       12|      Lisa Smith|williamsondavid@e...|     +1-517-457-5580|Unit 5990 Box 196...|\n",
      "|       13|    Angela Noble|  vjones@example.com|001-495-749-4929x...|Unit 1261 Box 190...|\n",
      "|       14|Joseph Dickerson|ramosbryan@exampl...|  475-426-6606x62612|9241 Jennifer For...|\n",
      "|       15|     Tina Larson|davisdavid@exampl...| (312)410-9643x04675|Unit 1589 Box 112...|\n",
      "|       16|  Ricky Andersen|mperkins@example.com|          3759060184|04606 Lisa Mounta...|\n",
      "|       17|    Nicole Baker| tracy91@example.net|          3005354588|615 Jennifer Moun...|\n",
      "|       18|     John Peters|evelynjohnson@exa...|    001-587-722-3676|028 Pearson Brook...|\n",
      "|       19|  Sabrina Nguyen| vmendez@example.net|001-953-533-2148x...|USCGC Tucker\n",
      "FPO ...|\n",
      "|       20|  Heidi Anderson|   gsims@example.com|   827.215.2232x9253|2504 Curtis Missi...|\n",
      "+---------+----------------+--------------------+--------------------+--------------------+\n",
      "only showing top 20 rows\n",
      "\n"
     ]
    }
   ],
   "source": [
    "df.show()"
   ]
  },
  {
   "cell_type": "code",
   "execution_count": 5,
   "metadata": {},
   "outputs": [
    {
     "data": {
      "text/plain": [
       "9874054"
      ]
     },
     "execution_count": 5,
     "metadata": {},
     "output_type": "execute_result"
    }
   ],
   "source": [
    "df.count()"
   ]
  },
  {
   "cell_type": "code",
   "execution_count": 4,
   "metadata": {},
   "outputs": [],
   "source": [
    "df.write.format('csv').option('header', 'true').save('clients') \n"
   ]
  },
  {
   "cell_type": "code",
   "execution_count": 10,
   "metadata": {},
   "outputs": [],
   "source": [
    "spark.stop()"
   ]
  }
 ],
 "metadata": {
  "kernelspec": {
   "display_name": "pyspark_env",
   "language": "python",
   "name": "python3"
  },
  "language_info": {
   "codemirror_mode": {
    "name": "ipython",
    "version": 3
   },
   "file_extension": ".py",
   "mimetype": "text/x-python",
   "name": "python",
   "nbconvert_exporter": "python",
   "pygments_lexer": "ipython3",
   "version": "3.9.2"
  }
 },
 "nbformat": 4,
 "nbformat_minor": 2
}
