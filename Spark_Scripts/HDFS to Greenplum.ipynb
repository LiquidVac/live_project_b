{
 "cells": [
  {
   "cell_type": "code",
   "execution_count": null,
   "id": "7d4ceeb8",
   "metadata": {},
   "outputs": [],
   "source": [
    "hdfs_ip = ''\n",
    "port = ''\n",
    "\n",
    "username = ''\n",
    "\n",
    "data = ''\n",
    "database = 'wave11_team_b'\n",
    "schema = ''\n",
    "db_user = 'wave11_user_b...'"
   ]
  },
  {
   "cell_type": "code",
   "execution_count": null,
   "id": "fd844d8c",
   "metadata": {},
   "outputs": [],
   "source": [
    "from pyspark.sql import SparkSession\n",
    "import os\n",
    "\n",
    "os.environ['HADOOP_USER_NAME'] = f'{username}'\n",
    "\n",
    "spark = SparkSession.builder \\\n",
    "    .appName('HDFS to Greenplum') \\\n",
    "    .master('local[1]') \\\n",
    "    .config('spark.hadoop.fs.defaultFS', f'hdfs://{hdfs_ip}/user/{username}')\\\n",
    "    .getOrCreate()\n",
    "\n",
    "print(spark)"
   ]
  },
  {
   "cell_type": "code",
   "execution_count": null,
   "id": "5b726e1f",
   "metadata": {},
   "outputs": [],
   "source": [
    "hdfs_data = spark.read.option(\"multiLine\", \"true\")\\\n",
    "    .csv(f\"hdfs://f{hdfs_ip}/user/f{username}/{data}.csv\", header=True, inferSchema=True)"
   ]
  },
  {
   "cell_type": "code",
   "execution_count": null,
   "id": "a6c206bd",
   "metadata": {},
   "outputs": [],
   "source": [
    "jdbc_url = f\"jdbc:postgresql://{hdfs_ip}:{port}/{database}\"\n",
    "    \n",
    "properties = {\n",
    "    \"user\": f\"{db_user}\",\n",
    "    \"password\": \"pass\",\n",
    "    \"driver\": \"org.postgresql.Driver\"\n",
    "}"
   ]
  },
  {
   "cell_type": "code",
   "execution_count": null,
   "id": "73ff9423",
   "metadata": {},
   "outputs": [],
   "source": [
    "hdfs_data.write.jdbc(url=jdbc_url, table=f\"{schema}.{data}\", mode=\"overwrite\", properties=properties)"
   ]
  },
  {
   "cell_type": "code",
   "execution_count": null,
   "id": "c83cfc9d",
   "metadata": {},
   "outputs": [],
   "source": [
    "spark.stop()"
   ]
  }
 ],
 "metadata": {
  "kernelspec": {
   "display_name": "Python 3 (ipykernel)",
   "language": "python",
   "name": "python3"
  },
  "language_info": {
   "codemirror_mode": {
    "name": "ipython",
    "version": 3
   },
   "file_extension": ".py",
   "mimetype": "text/x-python",
   "name": "python",
   "nbconvert_exporter": "python",
   "pygments_lexer": "ipython3",
   "version": "3.10.9"
  }
 },
 "nbformat": 4,
 "nbformat_minor": 5
}
