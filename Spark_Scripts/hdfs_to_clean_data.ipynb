{
 "cells": [
  {
   "cell_type": "code",
   "execution_count": 17,
   "metadata": {},
   "outputs": [
    {
     "name": "stdout",
     "output_type": "stream",
     "text": [
      "<pyspark.sql.session.SparkSession object at 0x0000025576464790>\n"
     ]
    }
   ],
   "source": [
    "from pyspark.sql import SparkSession\n",
    "import os\n",
    "\n",
    "os.environ['HADOOP_USER_NAME'] = 'n.almazova'\n",
    "\n",
    "spark = SparkSession.builder \\\n",
    "    .appName('HDFS to data') \\\n",
    "    .master('local[1]') \\\n",
    "    .config('spark.hadoop.fs.defaultFS', f'hdfs://172.17.0.23/user/live_project_b/data')\\\n",
    "    .getOrCreate()\n",
    "\n",
    "print(spark)"
   ]
  },
  {
   "cell_type": "markdown",
   "metadata": {},
   "source": [
    "# Чистим данные"
   ]
  },
  {
   "cell_type": "markdown",
   "metadata": {},
   "source": [
    "### Обработка clients"
   ]
  },
  {
   "cell_type": "code",
   "execution_count": 20,
   "metadata": {},
   "outputs": [],
   "source": [
    "clients = spark.read.option(\"multiline\", \"true\")\\\n",
    "    .csv(f\"hdfs://172.17.0.23/user/live_project_b/data/clients\", header=True, inferSchema=True)"
   ]
  },
  {
   "cell_type": "code",
   "execution_count": 21,
   "metadata": {},
   "outputs": [],
   "source": [
    "from pyspark.sql.functions import regexp_replace\n",
    "\n",
    "clean_clients = clients.withColumn('client_address', regexp_replace('client_address', '\\n', ' '))\n"
   ]
  },
  {
   "cell_type": "code",
   "execution_count": 22,
   "metadata": {},
   "outputs": [
    {
     "name": "stdout",
     "output_type": "stream",
     "text": [
      "+---------+----------------+---------------------------+---------------------+------------------------------------------------------------+\n",
      "|client_id|client_name     |client_email               |client_phone         |client_address                                              |\n",
      "+---------+----------------+---------------------------+---------------------+------------------------------------------------------------+\n",
      "|1        |Collin Wise     |melissa65@example.com      |+1-776-515-1789x521  |713 Bethany Ridges Suite 988 Port Rebekahside, HI 84917     |\n",
      "|2        |Nicole Perry    |blakebaker@example.net     |(582)838-7980        |6972 Wright Course West Jeffery, CA 97155                   |\n",
      "|3        |Paul Moore      |blake60@example.net        |299-671-7332x774     |10784 Cindy Plain Apt. 185 Hamiltonton, FL 12024            |\n",
      "|4        |Rebecca Giles   |deborahanderson@example.com|490.470.0682x97497   |307 Welch Road Suite 782 Lake Brianport, WY 54526           |\n",
      "|5        |Alexandra Perez |rodney32@example.net       |931.678.2769         |38544 Tabitha Centers Suite 262 South Melissamouth, NJ 46311|\n",
      "|6        |Kayla Turner    |stacysingh@example.org     |+1-824-876-2813x1466 |242 Philip Inlet East Samantha, WI 19753                    |\n",
      "|7        |Carlos Stark    |hannahrobinson@example.org |(222)816-7142        |91687 Orozco Passage Apt. 584 Hannahbury, OK 29126          |\n",
      "|8        |Alvin Ward      |daniel58@example.net       |001-217-771-9231     |PSC 1447, Box 7142 APO AP 80218                             |\n",
      "|9        |Travis Thomas   |alisonvincent@example.com  |+1-245-438-0794x854  |209 Michael Mission Alexton, MS 68804                       |\n",
      "|10       |Roger Elliott   |owensalexander@example.com |(664)842-4964        |623 Holt Orchard Frostmouth, GU 77866                       |\n",
      "|11       |Taylor Valdez   |mballard@example.com       |(734)657-5759x60560  |90422 Beasley Crossroad Apt. 085 Hollowaymouth, IL 10401    |\n",
      "|12       |Lisa Smith      |williamsondavid@example.com|+1-517-457-5580      |Unit 5990 Box 1967 DPO AA 27955                             |\n",
      "|13       |Angela Noble    |vjones@example.com         |001-495-749-4929x5866|Unit 1261 Box 1909 DPO AE 76796                             |\n",
      "|14       |Joseph Dickerson|ramosbryan@example.net     |475-426-6606x62612   |9241 Jennifer Fort Apt. 884 Jamesland, PA 43280             |\n",
      "|15       |Tina Larson     |davisdavid@example.com     |(312)410-9643x04675  |Unit 1589 Box 1125 DPO AA 56620                             |\n",
      "|16       |Ricky Andersen  |mperkins@example.com       |3759060184           |04606 Lisa Mountain Apt. 976 Michaelfort, CO 24229          |\n",
      "|17       |Nicole Baker    |tracy91@example.net        |3005354588           |615 Jennifer Mountain Apt. 416 South Denisefort, FM 72745   |\n",
      "|18       |John Peters     |evelynjohnson@example.net  |001-587-722-3676     |028 Pearson Brooks Port Brianhaven, MH 17920                |\n",
      "|19       |Sabrina Nguyen  |vmendez@example.net        |001-953-533-2148x3632|USCGC Tucker FPO AA 45008                                   |\n",
      "|20       |Heidi Anderson  |gsims@example.com          |827.215.2232x9253    |2504 Curtis Mission Nicholasfurt, WY 63133                  |\n",
      "+---------+----------------+---------------------------+---------------------+------------------------------------------------------------+\n",
      "only showing top 20 rows\n",
      "\n"
     ]
    }
   ],
   "source": [
    "clean_clients.show(truncate=False)"
   ]
  },
  {
   "cell_type": "code",
   "execution_count": 24,
   "metadata": {},
   "outputs": [],
   "source": [
    "clean_clients.write.format('csv').option('header', 'true').save('clients') "
   ]
  },
  {
   "cell_type": "markdown",
   "metadata": {},
   "source": [
    "### Обработка clients_activities"
   ]
  },
  {
   "cell_type": "code",
   "execution_count": 27,
   "metadata": {},
   "outputs": [
    {
     "name": "stdout",
     "output_type": "stream",
     "text": [
      "+---------+--------------------------+--------------+----------------------+--------------+-----------------------------------------------------------------------------------------------------------------------------------+\n",
      "|client_id|activity_date             |activity_type |activity_location     |ip_address    |device                                                                                                                             |\n",
      "+---------+--------------------------+--------------+----------------------+--------------+-----------------------------------------------------------------------------------------------------------------------------------+\n",
      "|1        |2024-10-22 05:55:15.712244|pay_bill      |list                  |19.127.116.230|Mozilla/5.0 (Macintosh; Intel Mac OS X 10_5_4 rv:4.0; li-NL) AppleWebKit/534.25.4 (KHTML, like Gecko) Version/4.0.5 Safari/534.25.4|\n",
      "|1        |2024-10-20 22:30:14.712244|view_account  |main/wp-content/search|19.127.116.230|Mozilla/5.0 (Macintosh; Intel Mac OS X 10_5_4 rv:4.0; li-NL) AppleWebKit/534.25.4 (KHTML, like Gecko) Version/4.0.5 Safari/534.25.4|\n",
      "|1        |2024-10-03 22:12:49.712244|view_account  |app/main              |19.127.116.230|Mozilla/5.0 (Macintosh; Intel Mac OS X 10_5_4 rv:4.0; li-NL) AppleWebKit/534.25.4 (KHTML, like Gecko) Version/4.0.5 Safari/534.25.4|\n",
      "|1        |2024-10-15 14:53:19.712244|view_account  |app/tags/main         |19.127.116.230|Mozilla/5.0 (Macintosh; Intel Mac OS X 10_5_4 rv:4.0; li-NL) AppleWebKit/534.25.4 (KHTML, like Gecko) Version/4.0.5 Safari/534.25.4|\n",
      "|1        |2024-10-13 05:17:30.712244|view_account  |blog                  |19.127.116.230|Mozilla/5.0 (Macintosh; Intel Mac OS X 10_5_4 rv:4.0; li-NL) AppleWebKit/534.25.4 (KHTML, like Gecko) Version/4.0.5 Safari/534.25.4|\n",
      "|1        |2024-10-15 11:02:02.712244|pay_bill      |tag/posts             |19.127.116.230|Mozilla/5.0 (Macintosh; Intel Mac OS X 10_5_4 rv:4.0; li-NL) AppleWebKit/534.25.4 (KHTML, like Gecko) Version/4.0.5 Safari/534.25.4|\n",
      "|1        |2024-10-18 17:59:21.712244|view_account  |category/blog         |19.127.116.230|Mozilla/5.0 (Macintosh; Intel Mac OS X 10_5_4 rv:4.0; li-NL) AppleWebKit/534.25.4 (KHTML, like Gecko) Version/4.0.5 Safari/534.25.4|\n",
      "|1        |2024-10-13 15:18:16.712244|chat_support  |list/explore          |19.127.116.230|Mozilla/5.0 (Macintosh; Intel Mac OS X 10_5_4 rv:4.0; li-NL) AppleWebKit/534.25.4 (KHTML, like Gecko) Version/4.0.5 Safari/534.25.4|\n",
      "|1        |2024-10-06 17:27:11.712244|view_account  |tag/category          |19.127.116.230|Mozilla/5.0 (Macintosh; Intel Mac OS X 10_5_4 rv:4.0; li-NL) AppleWebKit/534.25.4 (KHTML, like Gecko) Version/4.0.5 Safari/534.25.4|\n",
      "|1        |2024-10-23 18:17:53.712244|transfer_funds|app/blog/wp-content   |19.127.116.230|Mozilla/5.0 (Macintosh; Intel Mac OS X 10_5_4 rv:4.0; li-NL) AppleWebKit/534.25.4 (KHTML, like Gecko) Version/4.0.5 Safari/534.25.4|\n",
      "|1        |2024-02-28 01:35:11.712244|view_account  |search                |185.129.18.232|Mozilla/5.0 (Windows CE; bho-IN; rv:1.9.0.20) Gecko/4111-03-11 01:04:29 Firefox/3.8                                                |\n",
      "|1        |2024-10-26 11:28:06.712244|chat_support  |explore               |185.129.18.232|Mozilla/5.0 (Windows CE; bho-IN; rv:1.9.0.20) Gecko/4111-03-11 01:04:29 Firefox/3.8                                                |\n",
      "|1        |2024-09-14 23:02:23.712244|chat_support  |tags/search           |185.129.18.232|Mozilla/5.0 (Windows CE; bho-IN; rv:1.9.0.20) Gecko/4111-03-11 01:04:29 Firefox/3.8                                                |\n",
      "|1        |2024-09-04 09:42:27.712244|transfer_funds|tag/categories/blog   |185.129.18.232|Mozilla/5.0 (Windows CE; bho-IN; rv:1.9.0.20) Gecko/4111-03-11 01:04:29 Firefox/3.8                                                |\n",
      "|1        |2024-07-06 19:02:04.712244|view_account  |app/search            |185.129.18.232|Mozilla/5.0 (Windows CE; bho-IN; rv:1.9.0.20) Gecko/4111-03-11 01:04:29 Firefox/3.8                                                |\n",
      "|1        |2024-03-08 10:59:06.712244|chat_support  |categories            |185.129.18.232|Mozilla/5.0 (Windows CE; bho-IN; rv:1.9.0.20) Gecko/4111-03-11 01:04:29 Firefox/3.8                                                |\n",
      "|1        |2024-07-11 08:46:28.712244|view_account  |category              |185.129.18.232|Mozilla/5.0 (Windows CE; bho-IN; rv:1.9.0.20) Gecko/4111-03-11 01:04:29 Firefox/3.8                                                |\n",
      "|1        |2024-05-14 17:22:51.712244|view_account  |search/explore/blog   |185.129.18.232|Mozilla/5.0 (Windows CE; bho-IN; rv:1.9.0.20) Gecko/4111-03-11 01:04:29 Firefox/3.8                                                |\n",
      "|1        |2024-06-06 05:03:42.712244|call_support  |posts/posts           |185.129.18.232|Mozilla/5.0 (Windows CE; bho-IN; rv:1.9.0.20) Gecko/4111-03-11 01:04:29 Firefox/3.8                                                |\n",
      "|1        |2024-03-23 08:08:42.712244|chat_support  |explore/blog          |185.129.18.232|Mozilla/5.0 (Windows CE; bho-IN; rv:1.9.0.20) Gecko/4111-03-11 01:04:29 Firefox/3.8                                                |\n",
      "+---------+--------------------------+--------------+----------------------+--------------+-----------------------------------------------------------------------------------------------------------------------------------+\n",
      "only showing top 20 rows\n",
      "\n"
     ]
    }
   ],
   "source": [
    "clients_activities = spark.read.option(\"multiLine\", \"true\")\\\n",
    "    .csv(f\"hdfs://172.17.0.23/user/live_project_b/data/clients_activities\", header=True, inferSchema=True)\n",
    "\n",
    "clients_activities.show(truncate=False)\n"
   ]
  },
  {
   "cell_type": "code",
   "execution_count": 28,
   "metadata": {},
   "outputs": [],
   "source": [
    "clients_activities.write.format('csv').option('header', 'true').save('clients_activities') "
   ]
  },
  {
   "cell_type": "markdown",
   "metadata": {},
   "source": [
    "### Обработка clients_calls_support"
   ]
  },
  {
   "cell_type": "code",
   "execution_count": 29,
   "metadata": {},
   "outputs": [
    {
     "name": "stdout",
     "output_type": "stream",
     "text": [
      "+---------+--------------------------+--------+----------+\n",
      "|client_id|call_date                 |duration|result    |\n",
      "+---------+--------------------------+--------+----------+\n",
      "|1        |2024-06-06 05:03:42.712244|169     |resolved  |\n",
      "|1        |2024-09-06 07:05:58.712244|347     |resolved  |\n",
      "|1        |2024-07-19 15:11:22.712244|150     |unresolved|\n",
      "|1        |2024-09-17 11:42:17.712244|542     |resolved  |\n",
      "|1        |2024-08-17 08:41:03.712244|1414    |unresolved|\n",
      "|1        |2024-08-09 13:07:49.712244|902     |unresolved|\n",
      "|1        |2024-10-20 17:54:25.712244|1535    |resolved  |\n",
      "|1        |2024-10-23 00:46:45.712244|752     |resolved  |\n",
      "|1        |2024-10-08 12:25:38.712244|1505    |unresolved|\n",
      "|1        |2024-10-20 09:19:33.712244|382     |resolved  |\n",
      "|1        |2024-09-28 02:36:12.712244|379     |unresolved|\n",
      "|1        |2024-07-01 13:03:47.712244|225     |resolved  |\n",
      "|1        |2024-09-13 20:09:34.712244|313     |unresolved|\n",
      "|1        |2024-08-01 20:42:10.712244|578     |resolved  |\n",
      "|1        |2024-07-25 11:11:26.712244|1236    |resolved  |\n",
      "|1        |2024-05-25 18:42:00.712244|1120    |resolved  |\n",
      "|2        |2024-02-19 10:07:57.712244|315     |unresolved|\n",
      "|2        |2024-09-21 12:09:00.712244|770     |resolved  |\n",
      "|2        |2024-07-31 16:43:26.712244|880     |unresolved|\n",
      "|2        |2024-04-30 15:06:13.712244|1214    |unresolved|\n",
      "+---------+--------------------------+--------+----------+\n",
      "only showing top 20 rows\n",
      "\n"
     ]
    }
   ],
   "source": [
    "clients_calls_support = spark.read.option(\"multiLine\", \"true\")\\\n",
    "    .csv(f\"hdfs://172.17.0.23/user/live_project_b/data/clients_calls_support\", header=True, inferSchema=True)\n",
    "\n",
    "clients_calls_support.show(truncate=False)\n"
   ]
  },
  {
   "cell_type": "code",
   "execution_count": 30,
   "metadata": {},
   "outputs": [
    {
     "name": "stdout",
     "output_type": "stream",
     "text": [
      "+---------+--------------------+--------+------+\n",
      "|client_id|           call_date|duration|result|\n",
      "+---------+--------------------+--------+------+\n",
      "|        1|2024-06-06 05:03:...|     169|  true|\n",
      "|        1|2024-09-06 07:05:...|     347|  true|\n",
      "|        1|2024-07-19 15:11:...|     150| false|\n",
      "|        1|2024-09-17 11:42:...|     542|  true|\n",
      "|        1|2024-08-17 08:41:...|    1414| false|\n",
      "|        1|2024-08-09 13:07:...|     902| false|\n",
      "|        1|2024-10-20 17:54:...|    1535|  true|\n",
      "|        1|2024-10-23 00:46:...|     752|  true|\n",
      "|        1|2024-10-08 12:25:...|    1505| false|\n",
      "|        1|2024-10-20 09:19:...|     382|  true|\n",
      "|        1|2024-09-28 02:36:...|     379| false|\n",
      "|        1|2024-07-01 13:03:...|     225|  true|\n",
      "|        1|2024-09-13 20:09:...|     313| false|\n",
      "|        1|2024-08-01 20:42:...|     578|  true|\n",
      "|        1|2024-07-25 11:11:...|    1236|  true|\n",
      "|        1|2024-05-25 18:42:...|    1120|  true|\n",
      "|        2|2024-02-19 10:07:...|     315| false|\n",
      "|        2|2024-09-21 12:09:...|     770|  true|\n",
      "|        2|2024-07-31 16:43:...|     880| false|\n",
      "|        2|2024-04-30 15:06:...|    1214| false|\n",
      "+---------+--------------------+--------+------+\n",
      "only showing top 20 rows\n",
      "\n"
     ]
    }
   ],
   "source": [
    "from pyspark.sql.functions import when, col\n",
    "\n",
    "clean_clients_calls_support = clients_calls_support.withColumn(\"result\", when(col(\"result\") == \"resolved\", True).otherwise(False))\n",
    "\n",
    "# Показать измененный DataFrame\n",
    "clean_clients_calls_support.show()"
   ]
  },
  {
   "cell_type": "code",
   "execution_count": 31,
   "metadata": {},
   "outputs": [
    {
     "name": "stdout",
     "output_type": "stream",
     "text": [
      "root\n",
      " |-- client_id: integer (nullable = true)\n",
      " |-- call_date: string (nullable = true)\n",
      " |-- duration: integer (nullable = true)\n",
      " |-- result: boolean (nullable = false)\n",
      "\n"
     ]
    }
   ],
   "source": [
    "clean_clients_calls_support.printSchema()"
   ]
  },
  {
   "cell_type": "code",
   "execution_count": 32,
   "metadata": {},
   "outputs": [],
   "source": [
    "clean_clients_calls_support.write.format('csv').option('header', 'true').save('clients_calls_support') "
   ]
  },
  {
   "cell_type": "markdown",
   "metadata": {},
   "source": [
    "### Обработка clients_logins"
   ]
  },
  {
   "cell_type": "code",
   "execution_count": 33,
   "metadata": {},
   "outputs": [
    {
     "name": "stdout",
     "output_type": "stream",
     "text": [
      "+---------+--------------------------+---------------+---------------------------------------+---------------------------------------------------------------------------------------------------------------------------------------------------+\n",
      "|client_id|login_date                |ip_address     |location                               |device                                                                                                                                             |\n",
      "+---------+--------------------------+---------------+---------------------------------------+---------------------------------------------------------------------------------------------------------------------------------------------------+\n",
      "|1        |2024-10-02 19:14:31.712244|19.127.116.230 |-82.7035991836656, 110.03683951259939  |Mozilla/5.0 (Macintosh; Intel Mac OS X 10_5_4 rv:4.0; li-NL) AppleWebKit/534.25.4 (KHTML, like Gecko) Version/4.0.5 Safari/534.25.4                |\n",
      "|1        |2024-02-24 09:24:25.712244|185.129.18.232 |86.48330592760072, -116.21106182130025 |Mozilla/5.0 (Windows CE; bho-IN; rv:1.9.0.20) Gecko/4111-03-11 01:04:29 Firefox/3.8                                                                |\n",
      "|1        |2024-04-21 23:10:18.712244|188.231.152.133|64.63041046133432, -34.02681627755979  |Mozilla/5.0 (compatible; MSIE 9.0; Windows NT 5.01; Trident/3.1)                                                                                   |\n",
      "|1        |2024-04-10 06:06:49.712244|204.164.203.224|41.570879419703886, 61.51871277503466  |Mozilla/5.0 (compatible; MSIE 5.0; Windows NT 4.0; Trident/3.1)                                                                                    |\n",
      "|1        |2024-05-29 07:15:39.712244|80.236.158.16  |86.81405610098025, -178.5704581260253  |Mozilla/5.0 (iPhone; CPU iPhone OS 12_4_8 like Mac OS X) AppleWebKit/536.0 (KHTML, like Gecko) FxiOS/12.4f4508.0 Mobile/20T397 Safari/536.0        |\n",
      "|1        |2024-03-02 14:03:35.712244|128.28.207.79  |73.04263898956, 100.32359472423536     |Mozilla/5.0 (Windows; U; Windows NT 6.2) AppleWebKit/533.3.6 (KHTML, like Gecko) Version/5.0 Safari/533.3.6                                        |\n",
      "|1        |2024-01-16 22:33:50.712244|202.135.15.202 |52.636449470160244, -168.2300081274378 |Mozilla/5.0 (compatible; MSIE 8.0; Windows NT 6.2; Trident/5.1)                                                                                    |\n",
      "|1        |2024-08-07 07:21:45.712244|10.1.183.237   |58.837026257381524, -108.2357275268683 |Mozilla/5.0 (compatible; MSIE 7.0; Windows 98; Win 9x 4.90; Trident/3.1)                                                                           |\n",
      "|1        |2024-08-21 02:39:52.712244|168.24.116.188 |75.37179375866509, -24.38228757192752  |Mozilla/5.0 (Windows; U; Windows 95) AppleWebKit/533.22.2 (KHTML, like Gecko) Version/4.1 Safari/533.22.2                                          |\n",
      "|1        |2024-09-08 05:08:21.712244|59.46.50.244   |64.67694204411757, -117.23020372432143 |Mozilla/5.0 (iPhone; CPU iPhone OS 17_1 like Mac OS X) AppleWebKit/531.1 (KHTML, like Gecko) CriOS/57.0.818.0 Mobile/23Z002 Safari/531.1           |\n",
      "|1        |2024-07-05 00:57:54.712244|157.95.137.158 |52.33172342543233, -5.126800773376544  |Mozilla/5.0 (compatible; MSIE 6.0; Windows NT 5.2; Trident/5.0)                                                                                    |\n",
      "|1        |2024-05-25 02:07:18.712244|189.94.86.91   |-34.92392560998451, 177.22051363355456 |Mozilla/5.0 (compatible; MSIE 9.0; Windows NT 10.0; Trident/3.1)                                                                                   |\n",
      "|1        |2024-05-14 22:43:26.712244|169.249.119.207|-71.17540564614471, -141.75349305915023|Mozilla/5.0 (Windows NT 5.0; lv-LV; rv:1.9.2.20) Gecko/7578-01-19 10:15:36 Firefox/3.6.3                                                           |\n",
      "|1        |2024-07-27 03:20:50.712244|57.233.146.196 |-78.7079402668388, -19.026733253814683 |Opera/9.33.(Windows NT 5.01; te-IN) Presto/2.9.161 Version/10.00                                                                                   |\n",
      "|1        |2023-11-08 22:24:57.712244|88.220.250.214 |75.41836208856085, -76.26640874670652  |Mozilla/5.0 (iPod; U; CPU iPhone OS 3_3 like Mac OS X; bem-ZM) AppleWebKit/533.34.4 (KHTML, like Gecko) Version/3.0.5 Mobile/8B111 Safari/6533.34.4|\n",
      "|1        |2024-10-06 20:41:36.712244|16.188.199.155 |-14.86208411601963, -34.15445799927511 |Opera/8.55.(Windows NT 10.0; so-ET) Presto/2.9.173 Version/12.00                                                                                   |\n",
      "|1        |2024-06-20 11:54:47.712244|206.45.35.136  |21.888056956568747, 177.50492455644115 |Mozilla/5.0 (Linux; Android 2.2.1) AppleWebKit/531.2 (KHTML, like Gecko) Chrome/14.0.806.0 Safari/531.2                                            |\n",
      "|1        |2024-05-30 11:04:00.712244|29.68.172.75   |22.95331006149901, 60.03279160804993   |Mozilla/5.0 (Windows 95) AppleWebKit/536.1 (KHTML, like Gecko) Chrome/63.0.803.0 Safari/536.1                                                      |\n",
      "|1        |2024-07-24 23:19:18.712244|27.237.176.247 |-66.24362978325146, 153.81118979003276 |Mozilla/5.0 (compatible; MSIE 8.0; Windows NT 5.0; Trident/3.0)                                                                                    |\n",
      "|1        |2024-05-06 12:50:24.712244|207.237.159.4  |68.76236704661389, -60.01089893267739  |Mozilla/5.0 (Macintosh; PPC Mac OS X 10_5_6 rv:2.0; ckb-IQ) AppleWebKit/534.14.7 (KHTML, like Gecko) Version/5.0.1 Safari/534.14.7                 |\n",
      "+---------+--------------------------+---------------+---------------------------------------+---------------------------------------------------------------------------------------------------------------------------------------------------+\n",
      "only showing top 20 rows\n",
      "\n"
     ]
    }
   ],
   "source": [
    "clients_logins = spark.read.option(\"header\", \"true\")\\\n",
    "    .csv(f\"hdfs://172.17.0.23/user/live_project_b/data/clients_logins\", header=True, inferSchema=True, multiLine=True)\n",
    "\n",
    "clients_logins.show(truncate=False)\n"
   ]
  },
  {
   "cell_type": "code",
   "execution_count": 34,
   "metadata": {},
   "outputs": [],
   "source": [
    "clients_logins.write.format('csv').option('header', 'true').save('clients_logins') "
   ]
  },
  {
   "cell_type": "markdown",
   "metadata": {},
   "source": [
    "### Обработка clients_payments"
   ]
  },
  {
   "cell_type": "code",
   "execution_count": 35,
   "metadata": {},
   "outputs": [
    {
     "name": "stdout",
     "output_type": "stream",
     "text": [
      "+---------+----------+--------------------------+--------+---------+--------------+--------------+\n",
      "|client_id|payment_id|payment_date              |currency|amount   |payment_method|transaction_id|\n",
      "+---------+----------+--------------------------+--------+---------+--------------+--------------+\n",
      "|1        |2240      |2024-10-23 04:56:48.712244|RUB     |583417.77|debit_card    |4190          |\n",
      "|1        |8307      |2024-10-16 15:37:10.712244|USD     |8161.27  |e_wallet      |5347          |\n",
      "|1        |3753      |2024-10-25 03:17:03.712244|USD     |2392.96  |bank_transfer |3664          |\n",
      "|1        |9903      |2024-09-04 23:50:54.712244|RUB     |529688.47|e_wallet      |4761          |\n",
      "|1        |5669      |2024-06-19 03:21:12.712244|USD     |9974.11  |bank_transfer |3063          |\n",
      "|1        |9613      |2024-10-04 00:23:48.712244|RUB     |533177.55|bank_transfer |2073          |\n",
      "|1        |7217      |2024-10-17 09:49:50.712244|RUB     |759007.87|e_wallet      |1094          |\n",
      "|1        |3391      |2024-07-03 12:56:57.712244|RUB     |671665.33|e_wallet      |3167          |\n",
      "|1        |6270      |2024-06-17 16:02:49.712244|USD     |7871.84  |debit_card    |5113          |\n",
      "|1        |7587      |2024-10-03 15:58:01.712244|RUB     |8882193.0|debit_card    |2788          |\n",
      "|1        |8915      |2024-07-29 02:38:17.712244|USD     |303.59   |bank_transfer |7949          |\n",
      "|1        |9342      |2024-09-18 03:07:49.712244|USD     |3791.39  |debit_card    |4353          |\n",
      "|1        |9525      |2024-08-12 21:23:52.712244|USD     |4940.24  |e_wallet      |9241          |\n",
      "|1        |9502      |2024-06-16 06:40:26.712244|USD     |6206.45  |e_wallet      |4472          |\n",
      "|1        |6807      |2024-05-29 22:37:08.712244|USD     |7731.83  |credit_card   |7676          |\n",
      "|1        |2346      |2024-07-22 16:26:17.712244|USD     |5389.75  |bank_transfer |4743          |\n",
      "|1        |2911      |2024-10-02 09:57:16.712244|RUB     |403635.02|debit_card    |8480          |\n",
      "|1        |4586      |2024-08-20 21:39:14.712244|RUB     |22239.92 |debit_card    |2290          |\n",
      "|1        |3365      |2024-09-18 04:11:19.712244|USD     |630.64   |e_wallet      |1944          |\n",
      "|1        |9026      |2024-09-22 19:00:43.712244|RUB     |371324.66|debit_card    |8615          |\n",
      "+---------+----------+--------------------------+--------+---------+--------------+--------------+\n",
      "only showing top 20 rows\n",
      "\n"
     ]
    }
   ],
   "source": [
    "clients_payments = spark.read.option(\"header\", \"true\")\\\n",
    "    .csv(f\"hdfs://172.17.0.23/user/live_project_b/data/clients_payments\", header=True, inferSchema=True, multiLine=True)\n",
    "\n",
    "clients_payments.show(truncate=False)"
   ]
  },
  {
   "cell_type": "code",
   "execution_count": 16,
   "metadata": {},
   "outputs": [],
   "source": [
    "spark.stop()"
   ]
  }
 ],
 "metadata": {
  "kernelspec": {
   "display_name": "Python 3",
   "language": "python",
   "name": "python3"
  },
  "language_info": {
   "codemirror_mode": {
    "name": "ipython",
    "version": 3
   },
   "file_extension": ".py",
   "mimetype": "text/x-python",
   "name": "python",
   "nbconvert_exporter": "python",
   "pygments_lexer": "ipython3",
   "version": "3.9.2"
  }
 },
 "nbformat": 4,
 "nbformat_minor": 2
}
