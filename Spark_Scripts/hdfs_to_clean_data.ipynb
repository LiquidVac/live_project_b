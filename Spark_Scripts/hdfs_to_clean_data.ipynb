{
 "cells": [
  {
   "cell_type": "code",
   "execution_count": 1,
   "metadata": {},
   "outputs": [
    {
     "name": "stdout",
     "output_type": "stream",
     "text": [
      "<pyspark.sql.session.SparkSession object at 0x000001EBADDEF340>\n"
     ]
    }
   ],
   "source": [
    "from pyspark.sql import SparkSession\n",
    "import os\n",
    "\n",
    "os.environ['HADOOP_USER_NAME'] = 'n.almazova'\n",
    "\n",
    "spark = SparkSession.builder \\\n",
    "    .appName('HDFS to data') \\\n",
    "    .master('local[1]') \\\n",
    "    .config('spark.hadoop.fs.defaultFS', f'hdfs://172.17.0.23/user/live_project_b/data')\\\n",
    "    .getOrCreate()\n",
    "\n",
    "print(spark)"
   ]
  },
  {
   "cell_type": "markdown",
   "metadata": {},
   "source": [
    "# Чистим данные"
   ]
  },
  {
   "cell_type": "markdown",
   "metadata": {},
   "source": [
    "### Обработка clients"
   ]
  },
  {
   "cell_type": "code",
   "execution_count": 26,
   "metadata": {},
   "outputs": [],
   "source": [
    "clients = spark.read.option(\"multiline\", \"true\")\\\n",
    "    .csv(f\"hdfs://172.17.0.23/user/live_project_b/data/clients\", header=True, inferSchema=True)"
   ]
  },
  {
   "cell_type": "code",
   "execution_count": 27,
   "metadata": {},
   "outputs": [],
   "source": [
    "from pyspark.sql.functions import regexp_replace\n",
    "\n",
    "clean_clients = clients.withColumn('client_address', regexp_replace('client_address', '\\n', ' '))\n"
   ]
  },
  {
   "cell_type": "code",
   "execution_count": 28,
   "metadata": {},
   "outputs": [
    {
     "name": "stdout",
     "output_type": "stream",
     "text": [
      "+---------+--------------------+--------------------------+----------------------+-------------------------------------------------------+\n",
      "|client_id|client_name         |client_email              |client_phone          |client_address                                         |\n",
      "+---------+--------------------+--------------------------+----------------------+-------------------------------------------------------+\n",
      "|1        |Tracy Duncan        |eduardoparsons@example.net|385-842-7092          |019 Powers Estate Jessicachester, LA 32674             |\n",
      "|2        |Amy Phillips        |richardwalker@example.net |001-282-240-3733x3518 |32056 Todd Roads Port Calvinville, SC 98668            |\n",
      "|3        |Christopher Buchanan|lopezandrea@example.com   |338.327.1666x8437     |768 Davis Wall Apt. 641 East Kimberly, VI 79720        |\n",
      "|4        |Tyler Johnston      |kevin07@example.net       |001-829-581-6480x690  |Unit 4958 Box 7720 DPO AE 80388                        |\n",
      "|5        |Gregory Jones       |janet96@example.com       |(836)685-1162         |921 Michael Ramp East Andrealand, MT 75194             |\n",
      "|6        |Mitchell Jones      |christopher51@example.org |+1-370-714-7113       |1176 Washington Terrace Joshuatown, MD 62849           |\n",
      "|7        |Robert Lopez        |meyerkenneth@example.org  |398-940-3080          |7001 Ashley Trafficway New Antonioburgh, NY 43622      |\n",
      "|8        |Patricia Garcia     |gwendolyn85@example.com   |237-218-8355          |319 Chapman Vista Suite 747 Rodriguezton, SC 32648     |\n",
      "|9        |Misty Davis         |martinjames@example.org   |335-820-0966x98862    |PSC 3314, Box 3677 APO AE 21176                        |\n",
      "|10       |Thomas Anderson     |palmerkristen@example.net |333.850.6372          |743 Harrell Union Apt. 490 North Sydneyville, IN 23806 |\n",
      "|11       |Catherine Crawford  |zphillips@example.com     |891.757.4833          |PSC 8366, Box 3895 APO AA 59811                        |\n",
      "|12       |Eric West           |stacy51@example.org       |5332442260            |18910 Baker Island Suite 454 Stewartview, RI 14427     |\n",
      "|13       |Tanya Kim           |umiller@example.org       |(776)609-5406         |6309 Solis Greens Suite 247 Ericville, GA 41209        |\n",
      "|14       |Pamela Smith        |mark70@example.net        |001-330-431-9510x86004|835 Jacqueline Spurs Suite 851 Robertsonshire, WY 64491|\n",
      "|15       |David Mata          |jessica70@example.org     |225-993-6594x2901     |621 Torres Motorway Lake Jacobbury, GA 64086           |\n",
      "|16       |Shawn Lawson        |thompsonkayla@example.net |+1-210-901-8143       |02052 Williams Prairie New Thomas, WY 63067            |\n",
      "|17       |Elizabeth Wilson    |gibsonedward@example.com  |640-934-8476          |82285 Alexis Plains Apt. 030 Leemouth, IL 45189        |\n",
      "|18       |Emma Smith          |maureen83@example.com     |636-828-2178          |2430 Newman Burg New Catherine, FL 85590               |\n",
      "|19       |Taylor Duncan       |kbrooks@example.net       |+1-398-772-0585x2421  |4575 Adams Mill Apt. 665 Port Anna, PA 40005           |\n",
      "|20       |Donna Valdez        |teresa19@example.net      |898.925.4523          |981 Herrera Manor Apt. 218 Elizabethhaven, PR 31268    |\n",
      "+---------+--------------------+--------------------------+----------------------+-------------------------------------------------------+\n",
      "only showing top 20 rows\n",
      "\n"
     ]
    }
   ],
   "source": [
    "clean_clients.show(truncate=False)"
   ]
  },
  {
   "cell_type": "code",
   "execution_count": 29,
   "metadata": {},
   "outputs": [],
   "source": [
    "clean_clients.write.format('csv').option('header', 'true').save('clients') "
   ]
  },
  {
   "cell_type": "markdown",
   "metadata": {},
   "source": [
    "### Обработка clients_activities"
   ]
  },
  {
   "cell_type": "code",
   "execution_count": 7,
   "metadata": {},
   "outputs": [
    {
     "name": "stdout",
     "output_type": "stream",
     "text": [
      "+---------+--------------------------+--------------+--------------------------+--------------+------------------------------------------------------------------------------------------------------------------------------------+\n",
      "|client_id|activity_date             |activity_type |activity_location         |ip_address    |device                                                                                                                              |\n",
      "+---------+--------------------------+--------------+--------------------------+--------------+------------------------------------------------------------------------------------------------------------------------------------+\n",
      "|1        |2024-08-26 00:10:31.530598|pay_bill      |posts                     |12.252.118.134|Mozilla/5.0 (Macintosh; U; Intel Mac OS X 10_6_8 rv:3.0; bn-BD) AppleWebKit/533.42.3 (KHTML, like Gecko) Version/5.1 Safari/533.42.3|\n",
      "|1        |2024-07-29 19:41:14.530598|view_account  |tags/posts                |12.252.118.134|Mozilla/5.0 (Macintosh; U; Intel Mac OS X 10_6_8 rv:3.0; bn-BD) AppleWebKit/533.42.3 (KHTML, like Gecko) Version/5.1 Safari/533.42.3|\n",
      "|1        |2024-03-13 17:01:33.530598|chat_support  |search/wp-content/explore |12.252.118.134|Mozilla/5.0 (Macintosh; U; Intel Mac OS X 10_6_8 rv:3.0; bn-BD) AppleWebKit/533.42.3 (KHTML, like Gecko) Version/5.1 Safari/533.42.3|\n",
      "|1        |2024-09-23 12:44:05.530598|transfer_funds|tag/tags                  |12.252.118.134|Mozilla/5.0 (Macintosh; U; Intel Mac OS X 10_6_8 rv:3.0; bn-BD) AppleWebKit/533.42.3 (KHTML, like Gecko) Version/5.1 Safari/533.42.3|\n",
      "|1        |2024-10-11 02:34:14.530598|view_account  |search                    |12.252.118.134|Mozilla/5.0 (Macintosh; U; Intel Mac OS X 10_6_8 rv:3.0; bn-BD) AppleWebKit/533.42.3 (KHTML, like Gecko) Version/5.1 Safari/533.42.3|\n",
      "|1        |2024-10-23 06:16:27.530598|view_account  |tags                      |8.162.87.135  |Mozilla/5.0 (compatible; MSIE 7.0; Windows NT 6.0; Trident/3.0)                                                                     |\n",
      "|1        |2024-10-25 19:23:26.530598|view_account  |category/list             |8.162.87.135  |Mozilla/5.0 (compatible; MSIE 7.0; Windows NT 6.0; Trident/3.0)                                                                     |\n",
      "|1        |2024-10-27 04:46:54.530598|view_account  |explore/explore           |8.162.87.135  |Mozilla/5.0 (compatible; MSIE 7.0; Windows NT 6.0; Trident/3.0)                                                                     |\n",
      "|1        |2024-10-22 15:27:11.530598|pay_bill      |search                    |8.162.87.135  |Mozilla/5.0 (compatible; MSIE 7.0; Windows NT 6.0; Trident/3.0)                                                                     |\n",
      "|1        |2024-10-26 17:56:48.530598|view_account  |wp-content/list/app       |8.162.87.135  |Mozilla/5.0 (compatible; MSIE 7.0; Windows NT 6.0; Trident/3.0)                                                                     |\n",
      "|1        |2024-10-29 20:10:23.530598|view_account  |categories/app/blog       |8.162.87.135  |Mozilla/5.0 (compatible; MSIE 7.0; Windows NT 6.0; Trident/3.0)                                                                     |\n",
      "|1        |2024-10-22 16:42:28.530598|transfer_funds|categories/categories     |8.162.87.135  |Mozilla/5.0 (compatible; MSIE 7.0; Windows NT 6.0; Trident/3.0)                                                                     |\n",
      "|1        |2024-10-22 10:51:42.530598|pay_bill      |app                       |8.162.87.135  |Mozilla/5.0 (compatible; MSIE 7.0; Windows NT 6.0; Trident/3.0)                                                                     |\n",
      "|1        |2024-10-25 10:48:21.530598|view_account  |main/categories/wp-content|8.162.87.135  |Mozilla/5.0 (compatible; MSIE 7.0; Windows NT 6.0; Trident/3.0)                                                                     |\n",
      "|1        |2024-10-28 23:24:46.530598|view_account  |wp-content                |8.162.87.135  |Mozilla/5.0 (compatible; MSIE 7.0; Windows NT 6.0; Trident/3.0)                                                                     |\n",
      "|1        |2024-10-23 10:59:56.530598|pay_bill      |list                      |8.162.87.135  |Mozilla/5.0 (compatible; MSIE 7.0; Windows NT 6.0; Trident/3.0)                                                                     |\n",
      "|1        |2024-10-27 19:58:58.530598|pay_bill      |explore                   |8.162.87.135  |Mozilla/5.0 (compatible; MSIE 7.0; Windows NT 6.0; Trident/3.0)                                                                     |\n",
      "|1        |2024-10-26 13:24:27.530598|transfer_funds|list                      |8.162.87.135  |Mozilla/5.0 (compatible; MSIE 7.0; Windows NT 6.0; Trident/3.0)                                                                     |\n",
      "|1        |2024-10-22 03:10:42.530598|transfer_funds|posts                     |8.162.87.135  |Mozilla/5.0 (compatible; MSIE 7.0; Windows NT 6.0; Trident/3.0)                                                                     |\n",
      "|1        |2024-10-27 08:54:36.530598|pay_bill      |categories                |8.162.87.135  |Mozilla/5.0 (compatible; MSIE 7.0; Windows NT 6.0; Trident/3.0)                                                                     |\n",
      "+---------+--------------------------+--------------+--------------------------+--------------+------------------------------------------------------------------------------------------------------------------------------------+\n",
      "only showing top 20 rows\n",
      "\n"
     ]
    }
   ],
   "source": [
    "clients_activities = spark.read.option(\"multiLine\", \"true\")\\\n",
    "    .csv(f\"hdfs://172.17.0.23/user/live_project_b/data/clients_activities\", header=True, inferSchema=True)\n",
    "\n",
    "clients_activities.show(truncate=False)\n"
   ]
  },
  {
   "cell_type": "code",
   "execution_count": 8,
   "metadata": {},
   "outputs": [],
   "source": [
    "clients_activities.write.format('csv').option('header', 'true').save('clients_activities') "
   ]
  },
  {
   "cell_type": "markdown",
   "metadata": {},
   "source": [
    "### Обработка clients_calls_support"
   ]
  },
  {
   "cell_type": "code",
   "execution_count": 32,
   "metadata": {},
   "outputs": [
    {
     "name": "stdout",
     "output_type": "stream",
     "text": [
      "+---------+--------------------------+--------+----------+\n",
      "|client_id|call_date                 |duration|result    |\n",
      "+---------+--------------------------+--------+----------+\n",
      "|1        |2024-08-18 05:05:34.530598|1750    |resolved  |\n",
      "|1        |2024-10-31 00:01:58.530598|88      |unresolved|\n",
      "|1        |2024-09-30 07:23:00.530598|1303    |unresolved|\n",
      "|1        |2024-10-23 10:08:29.530598|1242    |unresolved|\n",
      "|1        |2024-10-09 23:48:39.530598|1102    |resolved  |\n",
      "|1        |2024-07-22 05:08:03.530598|1399    |unresolved|\n",
      "|1        |2024-08-01 16:53:18.530598|1149    |resolved  |\n",
      "|1        |2024-10-26 12:54:05.530598|1027    |unresolved|\n",
      "|1        |2024-07-12 21:28:53.530598|265     |unresolved|\n",
      "|1        |2024-09-27 07:05:59.530598|965     |resolved  |\n",
      "|1        |2024-10-16 12:49:46.530598|1243    |unresolved|\n",
      "|1        |2024-10-16 04:30:27.530598|1105    |unresolved|\n",
      "|1        |2024-09-14 07:32:51.530598|1675    |unresolved|\n",
      "|1        |2024-09-15 16:26:05.530598|177     |resolved  |\n",
      "|1        |2024-09-24 08:23:41.530598|922     |unresolved|\n",
      "|1        |2024-10-15 21:05:59.530598|1665    |unresolved|\n",
      "|1        |2024-10-04 21:12:16.530598|1411    |resolved  |\n",
      "|1        |2024-09-21 12:40:15.530598|470     |unresolved|\n",
      "|1        |2024-07-16 11:47:50.530598|1396    |unresolved|\n",
      "|1        |2024-08-01 12:48:50.530598|202     |resolved  |\n",
      "+---------+--------------------------+--------+----------+\n",
      "only showing top 20 rows\n",
      "\n"
     ]
    }
   ],
   "source": [
    "clients_calls_support = spark.read.option(\"multiLine\", \"true\")\\\n",
    "    .csv(f\"hdfs://172.17.0.23/user/live_project_b/data/clients_calls_support\", header=True, inferSchema=True)\n",
    "\n",
    "clients_calls_support.show(truncate=False)\n"
   ]
  },
  {
   "cell_type": "code",
   "execution_count": 33,
   "metadata": {},
   "outputs": [
    {
     "name": "stdout",
     "output_type": "stream",
     "text": [
      "+---------+--------------------+--------+------+\n",
      "|client_id|           call_date|duration|result|\n",
      "+---------+--------------------+--------+------+\n",
      "|        1|2024-08-18 05:05:...|    1750|  true|\n",
      "|        1|2024-10-31 00:01:...|      88| false|\n",
      "|        1|2024-09-30 07:23:...|    1303| false|\n",
      "|        1|2024-10-23 10:08:...|    1242| false|\n",
      "|        1|2024-10-09 23:48:...|    1102|  true|\n",
      "|        1|2024-07-22 05:08:...|    1399| false|\n",
      "|        1|2024-08-01 16:53:...|    1149|  true|\n",
      "|        1|2024-10-26 12:54:...|    1027| false|\n",
      "|        1|2024-07-12 21:28:...|     265| false|\n",
      "|        1|2024-09-27 07:05:...|     965|  true|\n",
      "|        1|2024-10-16 12:49:...|    1243| false|\n",
      "|        1|2024-10-16 04:30:...|    1105| false|\n",
      "|        1|2024-09-14 07:32:...|    1675| false|\n",
      "|        1|2024-09-15 16:26:...|     177|  true|\n",
      "|        1|2024-09-24 08:23:...|     922| false|\n",
      "|        1|2024-10-15 21:05:...|    1665| false|\n",
      "|        1|2024-10-04 21:12:...|    1411|  true|\n",
      "|        1|2024-09-21 12:40:...|     470| false|\n",
      "|        1|2024-07-16 11:47:...|    1396| false|\n",
      "|        1|2024-08-01 12:48:...|     202|  true|\n",
      "+---------+--------------------+--------+------+\n",
      "only showing top 20 rows\n",
      "\n"
     ]
    }
   ],
   "source": [
    "from pyspark.sql.functions import when, col\n",
    "\n",
    "clean_clients_calls_support = clients_calls_support.withColumn(\"result\", when(col(\"result\") == \"resolved\", True).otherwise(False))\n",
    "\n",
    "# Показать измененный DataFrame\n",
    "clean_clients_calls_support.show()"
   ]
  },
  {
   "cell_type": "code",
   "execution_count": 31,
   "metadata": {},
   "outputs": [
    {
     "name": "stdout",
     "output_type": "stream",
     "text": [
      "root\n",
      " |-- client_id: integer (nullable = true)\n",
      " |-- call_date: string (nullable = true)\n",
      " |-- duration: integer (nullable = true)\n",
      " |-- result: boolean (nullable = false)\n",
      "\n"
     ]
    }
   ],
   "source": [
    "clean_clients_calls_support.printSchema()"
   ]
  },
  {
   "cell_type": "code",
   "execution_count": 34,
   "metadata": {},
   "outputs": [],
   "source": [
    "clean_clients_calls_support.write.format('csv').option('header', 'true').save('clients_calls_support') "
   ]
  },
  {
   "cell_type": "markdown",
   "metadata": {},
   "source": [
    "### Обработка clients_logins"
   ]
  },
  {
   "cell_type": "code",
   "execution_count": 35,
   "metadata": {},
   "outputs": [
    {
     "name": "stdout",
     "output_type": "stream",
     "text": [
      "+---------+--------------------------+---------------+----------------------------------------+--------------------------------------------------------------------------------------------------------------------------------------------------+\n",
      "|client_id|login_date                |ip_address     |location                                |device                                                                                                                                            |\n",
      "+---------+--------------------------+---------------+----------------------------------------+--------------------------------------------------------------------------------------------------------------------------------------------------+\n",
      "|1        |2024-02-16 06:51:13.530598|12.252.118.134 |-55.9413759087795, -14.385552165217376  |Mozilla/5.0 (Macintosh; U; Intel Mac OS X 10_6_8 rv:3.0; bn-BD) AppleWebKit/533.42.3 (KHTML, like Gecko) Version/5.1 Safari/533.42.3              |\n",
      "|1        |2024-10-21 20:01:57.530598|8.162.87.135   |-1.0532298355290095, -84.24430719800758 |Mozilla/5.0 (compatible; MSIE 7.0; Windows NT 6.0; Trident/3.0)                                                                                   |\n",
      "|1        |2024-08-06 11:00:11.530598|166.72.47.200  |26.975161981611706, -59.99737825014397  |Mozilla/5.0 (Linux; Android 3.2.4) AppleWebKit/536.1 (KHTML, like Gecko) Chrome/33.0.879.0 Safari/536.1                                           |\n",
      "|1        |2024-08-02 17:10:05.530598|142.181.205.249|-35.17705491779351, -157.71985979635136 |Mozilla/5.0 (Macintosh; PPC Mac OS X 10_11_0 rv:2.0; nb-NO) AppleWebKit/534.14.5 (KHTML, like Gecko) Version/4.1 Safari/534.14.5                  |\n",
      "|1        |2024-08-11 00:36:13.530598|134.103.50.148 |-69.04722534541452, 171.84377892364012  |Mozilla/5.0 (compatible; MSIE 6.0; Windows NT 11.0; Trident/5.1)                                                                                  |\n",
      "|1        |2024-10-06 05:49:44.530598|38.184.122.234 |37.389982914900514, 36.24986306118299   |Mozilla/5.0 (X11; Linux x86_64; rv:1.9.6.20) Gecko/8192-06-14 23:25:14 Firefox/3.6.19                                                             |\n",
      "|1        |2024-07-18 08:34:06.530598|130.203.222.174|47.143457032264166, 25.511172512171214  |Mozilla/5.0 (Windows; U; Windows NT 6.0) AppleWebKit/535.50.4 (KHTML, like Gecko) Version/5.0 Safari/535.50.4                                     |\n",
      "|1        |2024-01-23 07:22:52.530598|69.135.238.198 |-80.07631002278274, 162.7779774555492   |Mozilla/5.0 (X11; Linux i686; rv:1.9.5.20) Gecko/2160-07-06 08:04:51 Firefox/3.6.13                                                               |\n",
      "|1        |2024-07-03 05:50:06.530598|118.233.206.212|-0.061006753117737844, 19.77262047165945|Mozilla/5.0 (X11; Linux i686; rv:1.9.5.20) Gecko/9619-07-08 04:39:41 Firefox/5.0                                                                  |\n",
      "|1        |2024-09-04 21:03:27.530598|150.99.232.217 |-51.12328224060943, 145.72350946506094  |Mozilla/5.0 (Android 2.3.3; Mobile; rv:66.0) Gecko/66.0 Firefox/66.0                                                                              |\n",
      "|1        |2024-03-10 02:40:26.530598|186.27.240.27  |14.613920397516765, 154.8201297750898   |Mozilla/5.0 (Macintosh; Intel Mac OS X 10_8_9 rv:2.0; et-EE) AppleWebKit/532.14.7 (KHTML, like Gecko) Version/5.0.2 Safari/532.14.7               |\n",
      "|1        |2024-02-01 20:56:48.530598|105.19.51.4    |16.775178313170613, -106.32703268742846 |Mozilla/5.0 (Windows; U; Windows 98; Win 9x 4.90) AppleWebKit/535.19.2 (KHTML, like Gecko) Version/5.0.2 Safari/535.19.2                          |\n",
      "|1        |2024-09-08 08:23:40.530598|195.5.75.253   |87.21216930103975, -74.15271921857558   |Mozilla/5.0 (Macintosh; U; PPC Mac OS X 10_9_8) AppleWebKit/536.2 (KHTML, like Gecko) Chrome/33.0.831.0 Safari/536.2                              |\n",
      "|1        |2024-04-30 21:58:57.530598|205.231.166.71 |-20.285213613341, -174.06909648470378   |Mozilla/5.0 (Android 4.4; Mobile; rv:35.0) Gecko/35.0 Firefox/35.0                                                                                |\n",
      "|1        |2024-08-26 09:31:22.530598|44.238.3.106   |-49.11397875368171, 100.42624726658198  |Mozilla/5.0 (iPhone; CPU iPhone OS 3_2_2 like Mac OS X) AppleWebKit/531.1 (KHTML, like Gecko) CriOS/53.0.899.0 Mobile/64Z066 Safari/531.1         |\n",
      "|1        |2024-02-25 19:34:46.530598|42.206.51.30   |63.466426901659446, 54.07123546423847   |Opera/9.20.(X11; Linux i686; kn-IN) Presto/2.9.178 Version/10.00                                                                                  |\n",
      "|1        |2024-01-27 07:45:51.530598|163.196.53.20  |-23.184855232656076, 108.667679874302   |Mozilla/5.0 (Windows; U; Windows NT 5.2) AppleWebKit/532.13.4 (KHTML, like Gecko) Version/4.0.3 Safari/532.13.4                                   |\n",
      "|1        |2024-01-09 00:55:15.530598|148.215.48.232 |-27.439866323864045, 29.883708374602094 |Mozilla/5.0 (X11; Linux x86_64; rv:1.9.7.20) Gecko/4147-06-21 09:24:34 Firefox/10.0                                                               |\n",
      "|1        |2024-07-11 15:48:37.530598|1.121.117.197  |-53.19025822803435, -50.35152301720623  |Mozilla/5.0 (Windows; U; Windows NT 4.0) AppleWebKit/533.17.7 (KHTML, like Gecko) Version/5.0 Safari/533.17.7                                     |\n",
      "|1        |2024-08-23 11:00:11.530598|118.77.150.92  |-49.93647671094456, 4.62506152639466    |Mozilla/5.0 (iPod; U; CPU iPhone OS 4_2 like Mac OS X; cy-GB) AppleWebKit/533.44.3 (KHTML, like Gecko) Version/4.0.5 Mobile/8B114 Safari/6533.44.3|\n",
      "+---------+--------------------------+---------------+----------------------------------------+--------------------------------------------------------------------------------------------------------------------------------------------------+\n",
      "only showing top 20 rows\n",
      "\n"
     ]
    }
   ],
   "source": [
    "clients_logins = spark.read.option(\"header\", \"true\")\\\n",
    "    .csv(f\"hdfs://172.17.0.23/user/live_project_b/data/clients_logins\", header=True, inferSchema=True, multiLine=True)\n",
    "\n",
    "clients_logins.show(truncate=False)\n"
   ]
  },
  {
   "cell_type": "code",
   "execution_count": 36,
   "metadata": {},
   "outputs": [],
   "source": [
    "clients_logins.write.format('csv').option('header', 'true').save('clients_logins') "
   ]
  },
  {
   "cell_type": "markdown",
   "metadata": {},
   "source": [
    "### Обработка clients_transactions"
   ]
  },
  {
   "cell_type": "code",
   "execution_count": 10,
   "metadata": {},
   "outputs": [
    {
     "name": "stdout",
     "output_type": "stream",
     "text": [
      "+---------+--------------+--------------------------+----------------+----------------------+--------+---------+\n",
      "|client_id|transaction_id|transaction_date          |transaction_type|account_number        |currency|amount   |\n",
      "+---------+--------------+--------------------------+----------------+----------------------+--------+---------+\n",
      "|1        |234609882     |2024-08-26 09:17:32.530598|pay_bill        |GB28KEXZ85954763023129|USD     |512.34   |\n",
      "|1        |860612867     |2024-09-23 21:55:51.530598|transfer_funds  |GB47EHXT96036734057340|USD     |3458.34  |\n",
      "|1        |190083883     |2024-10-23 00:52:23.530598|pay_bill        |GB79WXIO00672741168285|RUB     |238213.27|\n",
      "|1        |607049149     |2024-10-23 01:48:59.530598|transfer_funds  |GB14IJCQ22626781259740|RUB     |154073.8 |\n",
      "|1        |616098761     |2024-10-23 01:05:33.530598|pay_bill        |GB02SMPA83475471086901|RUB     |8405356.1|\n",
      "|1        |400510704     |2024-10-24 01:51:42.530598|pay_bill        |GB79QJMV47644080099275|USD     |3635.53  |\n",
      "|1        |570370550     |2024-10-28 14:37:09.530598|pay_bill        |GB17JGJP56582991931267|USD     |4669.51  |\n",
      "|1        |475261537     |2024-10-26 23:16:30.530598|transfer_funds  |GB70AQIK59885391353476|RUB     |7522612.0|\n",
      "|1        |369057638     |2024-10-22 12:43:59.530598|transfer_funds  |GB41OOOV59507284568148|RUB     |240100.73|\n",
      "|1        |95565545      |2024-10-27 17:24:26.530598|pay_bill        |GB37HYHO25243674431634|USD     |3446.56  |\n",
      "|1        |489466576     |2024-10-31 22:15:11.530598|pay_bill        |GB64HCQJ62036819750306|USD     |3508.71  |\n",
      "|1        |708032377     |2024-11-01 10:37:29.530598|transfer_funds  |GB35OWSC93079844221976|RUB     |246289.89|\n",
      "|1        |182014387     |2024-10-03 13:40:23.530598|transfer_funds  |GB16VLMX81299656474575|USD     |1492.28  |\n",
      "|1        |13495546      |2024-08-22 00:37:00.530598|transfer_funds  |GB49TSOD97275939625410|RUB     |247265.04|\n",
      "|1        |591177785     |2024-08-26 05:58:26.530598|transfer_funds  |GB22TJCT60641274032360|RUB     |874839.96|\n",
      "|1        |530483888     |2024-10-25 15:15:58.530598|transfer_funds  |GB37IXHD30542362828620|RUB     |849402.52|\n",
      "|1        |680511069     |2024-08-26 02:47:00.530598|transfer_funds  |GB86YBKZ91930649283459|USD     |3727.2   |\n",
      "|1        |257354901     |2024-09-23 22:58:11.530598|pay_bill        |GB83BRMT98198178522007|USD     |1518.49  |\n",
      "|1        |158252341     |2024-10-05 10:10:26.530598|pay_bill        |GB60GZGL79630446495443|RUB     |365371.5 |\n",
      "|1        |303648277     |2024-08-25 21:41:40.530598|pay_bill        |GB08AYZC16683909176689|RUB     |388661.03|\n",
      "+---------+--------------+--------------------------+----------------+----------------------+--------+---------+\n",
      "only showing top 20 rows\n",
      "\n"
     ]
    }
   ],
   "source": [
    "clients_transactions = spark.read.option(\"header\", \"true\")\\\n",
    "    .csv(f\"hdfs://172.17.0.23/user/live_project_b/data/clients_transactions\", header=True, inferSchema=True, multiLine=True)\n",
    "\n",
    "clients_transactions.show(truncate=False)"
   ]
  },
  {
   "cell_type": "code",
   "execution_count": 12,
   "metadata": {},
   "outputs": [
    {
     "data": {
      "text/plain": [
       "288569"
      ]
     },
     "execution_count": 12,
     "metadata": {},
     "output_type": "execute_result"
    }
   ],
   "source": [
    "clients_transactions.count()"
   ]
  },
  {
   "cell_type": "code",
   "execution_count": 23,
   "metadata": {},
   "outputs": [],
   "source": [
    "clean_clients_transaction = clients_transactions.drop_duplicates(['transaction_id'])\n",
    "clean_clients_transaction = clean_clients_transaction.repartition(1)"
   ]
  },
  {
   "cell_type": "code",
   "execution_count": 24,
   "metadata": {},
   "outputs": [
    {
     "data": {
      "text/plain": [
       "288529"
      ]
     },
     "execution_count": 24,
     "metadata": {},
     "output_type": "execute_result"
    }
   ],
   "source": [
    "clean_clients_transaction.count()"
   ]
  },
  {
   "cell_type": "code",
   "execution_count": 48,
   "metadata": {},
   "outputs": [
    {
     "name": "stdout",
     "output_type": "stream",
     "text": [
      "+---------+--------------+--------------------+----------------+--------------------+--------+---------+\n",
      "|client_id|transaction_id|    transaction_date|transaction_type|      account_number|currency|   amount|\n",
      "+---------+--------------+--------------------+----------------+--------------------+--------+---------+\n",
      "|     2304|         74775|2024-09-11 19:33:...|  transfer_funds|GB30TFCV796683935...|     RUB|612558.39|\n",
      "|      996|        239284|2024-09-06 12:56:...|  transfer_funds|GB28EZIZ826251360...|     USD|   563.49|\n",
      "|     2843|        459259|2024-11-02 03:22:...|  transfer_funds|GB63XOPY227969465...|     RUB|476746.78|\n",
      "|     2403|        574221|2024-08-30 03:18:...|  transfer_funds|GB09NPTZ672399413...|     USD|   3487.5|\n",
      "|     1651|       1190318|2024-05-10 02:57:...|  transfer_funds|GB92EZZW959970197...|     USD|  8677.24|\n",
      "|      211|       1231231|2024-10-20 12:59:...|  transfer_funds|GB41TFEV245616773...|     USD|  1283.02|\n",
      "|     2620|       1349953|2024-09-20 20:54:...|  transfer_funds|GB46FYDZ922675624...|     RUB|138451.17|\n",
      "|     1171|       2586867|2024-08-20 13:54:...|        pay_bill|GB44XOCG135744586...|     RUB| 645100.1|\n",
      "|     1730|       3178658|2024-09-30 19:41:...|  transfer_funds|GB85GSLC077763257...|     USD|  6156.12|\n",
      "|     1632|       3585673|2024-04-30 09:38:...|  transfer_funds|GB34HOTL471003510...|     RUB| 728806.6|\n",
      "|     2758|       4240756|2024-09-24 18:42:...|        pay_bill|GB46IMDC003632910...|     USD|  9243.26|\n",
      "|     2204|       5699078|2024-04-09 12:13:...|  transfer_funds|GB03WXTX501734441...|     USD|  4271.08|\n",
      "|      293|       7727250|2024-10-24 12:17:...|  transfer_funds|GB51LNSZ628278859...|     USD|  8750.56|\n",
      "|     2341|       7838564|2024-10-03 18:48:...|  transfer_funds|GB70QSXI842462224...|     RUB|768439.43|\n",
      "|     1778|       7972782|2024-08-09 08:02:...|  transfer_funds|GB55ENVY257645041...|     RUB|519060.62|\n",
      "|     1831|       8066914|2024-09-25 14:32:...|        pay_bill|GB80LFTY777602818...|     RUB|442391.46|\n",
      "|     2070|       9730152|2024-10-10 22:16:...|  transfer_funds|GB43RWJZ429547824...|     RUB|376560.75|\n",
      "|     1937|       9865952|2024-05-10 13:06:...|  transfer_funds|GB43HONK380587461...|     USD|  9742.65|\n",
      "|       72|      10449920|2024-04-27 20:49:...|        pay_bill|GB19VMTX599788951...|     USD|  9365.46|\n",
      "|     2891|      11807477|2024-09-25 16:14:...|  transfer_funds|GB60OGBP632070598...|     RUB|277866.83|\n",
      "+---------+--------------+--------------------+----------------+--------------------+--------+---------+\n",
      "only showing top 20 rows\n",
      "\n"
     ]
    }
   ],
   "source": [
    "clean_clients_transaction.show()"
   ]
  },
  {
   "cell_type": "code",
   "execution_count": 25,
   "metadata": {},
   "outputs": [],
   "source": [
    "clean_clients_transaction.write.format('csv').option('header', 'true').save('clients_transactions') "
   ]
  },
  {
   "cell_type": "markdown",
   "metadata": {},
   "source": [
    "### Обработка clients_payments"
   ]
  },
  {
   "cell_type": "code",
   "execution_count": 15,
   "metadata": {},
   "outputs": [
    {
     "name": "stdout",
     "output_type": "stream",
     "text": [
      "+---------+----------+--------------------------+--------+---------+--------------+--------------+\n",
      "|client_id|payment_id|payment_date              |currency|amount   |payment_method|transaction_id|\n",
      "+---------+----------+--------------------------+--------+---------+--------------+--------------+\n",
      "|1        |392158235 |2024-08-26 22:14:46.530598|USD     |512.34   |e_wallet      |234609882     |\n",
      "|1        |996206114 |2024-09-24 19:21:33.530598|USD     |3458.34  |credit_card   |860612867     |\n",
      "|1        |586726744 |2024-10-23 20:49:19.530598|RUB     |238213.27|debit_card    |190083883     |\n",
      "|1        |975252897 |2024-10-23 11:35:38.530598|RUB     |154073.8 |bank_transfer |607049149     |\n",
      "|1        |914550503 |2024-10-24 01:05:31.530598|RUB     |8405356.1|bank_transfer |616098761     |\n",
      "|1        |713783565 |2024-10-24 06:21:46.530598|USD     |3635.53  |bank_transfer |400510704     |\n",
      "|1        |821700960 |2024-10-29 10:43:52.530598|USD     |4669.51  |e_wallet      |570370550     |\n",
      "|1        |260429765 |2024-10-27 13:04:41.530598|RUB     |7522612.0|bank_transfer |475261537     |\n",
      "|1        |953373220 |2024-10-23 01:27:45.530598|RUB     |240100.73|e_wallet      |369057638     |\n",
      "|1        |272707272 |2024-10-27 18:20:52.530598|USD     |3446.56  |credit_card   |95565545      |\n",
      "|1        |620162992 |2024-11-01 17:21:19.530598|USD     |3508.71  |bank_transfer |489466576     |\n",
      "|1        |4251373   |2024-11-02 09:36:06.530598|RUB     |246289.89|credit_card   |708032377     |\n",
      "|1        |313142678 |2024-10-04 09:48:58.530598|USD     |1492.28  |debit_card    |182014387     |\n",
      "|1        |158449852 |2024-08-22 04:20:55.530598|RUB     |247265.04|debit_card    |13495546      |\n",
      "|1        |282102517 |2024-08-26 08:57:07.530598|RUB     |874839.96|bank_transfer |591177785     |\n",
      "|1        |710500375 |2024-10-26 08:53:57.530598|RUB     |849402.52|e_wallet      |530483888     |\n",
      "|1        |420586907 |2024-08-26 16:42:24.530598|USD     |3727.2   |e_wallet      |680511069     |\n",
      "|1        |650169253 |2024-09-24 13:01:20.530598|USD     |1518.49  |bank_transfer |257354901     |\n",
      "|1        |443284355 |2024-10-06 07:15:00.530598|RUB     |365371.5 |debit_card    |158252341     |\n",
      "|1        |689266129 |2024-08-25 23:30:28.530598|RUB     |388661.03|e_wallet      |303648277     |\n",
      "+---------+----------+--------------------------+--------+---------+--------------+--------------+\n",
      "only showing top 20 rows\n",
      "\n"
     ]
    }
   ],
   "source": [
    "clients_payments = spark.read.option(\"header\", \"true\")\\\n",
    "    .csv(f\"hdfs://172.17.0.23/user/live_project_b/data/clients_payments\", header=True, inferSchema=True, multiLine=True)\n",
    "\n",
    "clients_payments.show(truncate=False)"
   ]
  },
  {
   "cell_type": "code",
   "execution_count": 39,
   "metadata": {},
   "outputs": [],
   "source": [
    "clients_payments.createOrReplaceTempView('payments')\n",
    "clean_clients_transaction.createOrReplaceTempView('transactions')"
   ]
  },
  {
   "cell_type": "code",
   "execution_count": 40,
   "metadata": {},
   "outputs": [],
   "source": [
    "clean_clients_payments = spark.sql('select * from payments where exists \\\n",
    "                                   (select amount, transaction_id from transactions \\\n",
    "                                   where payments.amount = transactions.amount and payments.transaction_id = transactions.transaction_id)')"
   ]
  },
  {
   "cell_type": "code",
   "execution_count": 41,
   "metadata": {},
   "outputs": [
    {
     "data": {
      "text/plain": [
       "288569"
      ]
     },
     "execution_count": 41,
     "metadata": {},
     "output_type": "execute_result"
    }
   ],
   "source": [
    "clients_payments.count()"
   ]
  },
  {
   "cell_type": "code",
   "execution_count": 42,
   "metadata": {},
   "outputs": [
    {
     "data": {
      "text/plain": [
       "288529"
      ]
     },
     "execution_count": 42,
     "metadata": {},
     "output_type": "execute_result"
    }
   ],
   "source": [
    "clean_clients_payments.count()"
   ]
  },
  {
   "cell_type": "code",
   "execution_count": 43,
   "metadata": {},
   "outputs": [],
   "source": [
    "clean_clients_payments = clean_clients_payments.dropDuplicates(['payment_id'])"
   ]
  },
  {
   "cell_type": "code",
   "execution_count": 44,
   "metadata": {},
   "outputs": [
    {
     "data": {
      "text/plain": [
       "288474"
      ]
     },
     "execution_count": 44,
     "metadata": {},
     "output_type": "execute_result"
    }
   ],
   "source": [
    "clean_clients_payments.count()"
   ]
  },
  {
   "cell_type": "code",
   "execution_count": 45,
   "metadata": {},
   "outputs": [],
   "source": [
    "clean_clients_payments = clean_clients_payments.coalesce(1)"
   ]
  },
  {
   "cell_type": "code",
   "execution_count": 47,
   "metadata": {},
   "outputs": [],
   "source": [
    "clean_clients_payments.write.format('csv').option('header', 'true').save('clients_payments') "
   ]
  },
  {
   "cell_type": "code",
   "execution_count": 44,
   "metadata": {},
   "outputs": [],
   "source": [
    "spark.stop()"
   ]
  }
 ],
 "metadata": {
  "kernelspec": {
   "display_name": "Python 3",
   "language": "python",
   "name": "python3"
  },
  "language_info": {
   "codemirror_mode": {
    "name": "ipython",
    "version": 3
   },
   "file_extension": ".py",
   "mimetype": "text/x-python",
   "name": "python",
   "nbconvert_exporter": "python",
   "pygments_lexer": "ipython3",
   "version": "3.9.2"
  }
 },
 "nbformat": 4,
 "nbformat_minor": 2
}
